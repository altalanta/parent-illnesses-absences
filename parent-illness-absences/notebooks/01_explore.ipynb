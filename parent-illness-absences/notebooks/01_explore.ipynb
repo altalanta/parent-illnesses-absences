{
 "cells": [
  {
   "cell_type": "markdown",
   "metadata": {},
   "source": [
    "# Explore CPS Absence Rates\n",
    "This notebook previews the processed monthly rates and discusses the DiD interpretation."
   ]
  },
  {
   "cell_type": "code",
   "execution_count": null,
   "metadata": {},
   "outputs": [],
   "source": [
    "import pandas as pd\n",
    "from pathlib import Path\n",
    "df = pd.read_parquet('data/processed/cps_absence_rates.parquet')\n",
    "df.head()"
   ]
  },
  {
   "cell_type": "code",
   "execution_count": null,
   "metadata": {},
   "outputs": [],
   "source": [
    "df['date'] = pd.to_datetime(df['YEAR'].astype(int).astype(str)+'-'+df['MONTH'].astype(int).astype(str)+'-01')\n",
    "ax = df.pivot_table(index='date', columns='is_parent', values='rate').plot(figsize=(10,4))\n",
    "ax.set_title('Own-illness absence rates (25–49, employed)');"
   ]
  },
  {
   "cell_type": "markdown",
   "metadata": {},
   "source": [
    "## Interpreting the DiD coefficients\n",
    "We estimate: `own_ill_absent ~ is_parent * (P2 + P3) + FE + controls`.\n",
    "- The interaction terms compare parents vs non-parents across periods, net of fixed effects.\n",
    "- A positive coefficient on `is_parent:P3` implies the parent gap widened in 2020+."
   ]
  }
 ],
 "metadata": {
  "kernelspec": {
   "display_name": "Python 3",
   "language": "python",
   "name": "python3"
  },
  "language_info": {
   "name": "python",
   "version": "3"
  }
 },
 "nbformat": 4,
 "nbformat_minor": 5
}

